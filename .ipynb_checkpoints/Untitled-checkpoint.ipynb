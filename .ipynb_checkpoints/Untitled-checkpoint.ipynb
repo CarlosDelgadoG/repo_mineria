{
 "cells": [
  {
   "cell_type": "code",
   "execution_count": 1,
   "id": "2f5bfa70-a307-4b26-9416-43b20ca448c4",
   "metadata": {},
   "outputs": [],
   "source": [
    "import pandas as pd\n",
    "import numpy as np"
   ]
  },
  {
   "cell_type": "code",
   "execution_count": 4,
   "id": "72128327-b120-43e0-bee2-f161c59d9dd0",
   "metadata": {},
   "outputs": [],
   "source": [
    "phq= pd.read_csv('DATOS/phq_num.csv',sep=';')"
   ]
  },
  {
   "cell_type": "code",
   "execution_count": 9,
   "id": "0a40944c-bd1b-4a37-9c13-441bd721decc",
   "metadata": {},
   "outputs": [],
   "source": [
    "phq.head()\n",
    "phq.shape\n",
    "phq.isnull().sum()\n",
    "\n",
    "phq=phq.dropna()"
   ]
  },
  {
   "cell_type": "code",
   "execution_count": 10,
   "id": "4734728d-8523-4e44-8e82-0cf99b32a0cc",
   "metadata": {},
   "outputs": [
    {
     "data": {
      "text/plain": [
       "(2888, 12)"
      ]
     },
     "execution_count": 10,
     "metadata": {},
     "output_type": "execute_result"
    }
   ],
   "source": []
  }
 ],
 "metadata": {
  "kernelspec": {
   "display_name": "Python 3 (ipykernel)",
   "language": "python",
   "name": "python3"
  },
  "language_info": {
   "codemirror_mode": {
    "name": "ipython",
    "version": 3
   },
   "file_extension": ".py",
   "mimetype": "text/x-python",
   "name": "python",
   "nbconvert_exporter": "python",
   "pygments_lexer": "ipython3",
   "version": "3.9.7"
  }
 },
 "nbformat": 4,
 "nbformat_minor": 5
}
