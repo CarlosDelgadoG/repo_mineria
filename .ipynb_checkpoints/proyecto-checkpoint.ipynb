{
 "cells": [
  {
   "cell_type": "code",
   "execution_count": 54,
   "id": "2f5bfa70-a307-4b26-9416-43b20ca448c4",
   "metadata": {},
   "outputs": [],
   "source": [
    "import pandas as pd\n",
    "import numpy as np\n",
    "import itertools\n",
    "from kmodes.kmodes import KModes\n",
    "import plotly.offline as py\n",
    "import plotly.express as px"
   ]
  },
  {
   "cell_type": "code",
   "execution_count": null,
   "id": "72128327-b120-43e0-bee2-f161c59d9dd0",
   "metadata": {},
   "outputs": [],
   "source": [
    "phq= pd.read_csv('DATOS/phq_num.csv',sep=';')"
   ]
  },
  {
   "cell_type": "code",
   "execution_count": null,
   "id": "0a40944c-bd1b-4a37-9c13-441bd721decc",
   "metadata": {},
   "outputs": [],
   "source": [
    "\n",
    "phq.shape\n",
    "phq.isnull().sum()\n",
    "\n",
    "phq=phq.dropna()"
   ]
  },
  {
   "cell_type": "code",
   "execution_count": null,
   "id": "622260d0-e5a9-48a9-b194-d9fd2c9d95c1",
   "metadata": {},
   "outputs": [],
   "source": [
    "### Seleccionar las variables\n",
    "phq_ft=phq.drop(['phq_global','phq_s10','phq_cat'],axis=1)\n",
    "### Pasar a categoricas\n",
    "def reco_s00(val):\n",
    "    if val == 0:\n",
    "        return 'Nunca'\n",
    "    elif val==1:\n",
    "        return 'Algunos'\n",
    "    elif val ==2:\n",
    "        return 'Varios'\n",
    "    elif val ==3:\n",
    "        return 'Todos'\n",
    "lista_rec=[phq_ft[i].apply(reco_s00) for i in phq_ft.columns]\n",
    "\n",
    "phq_rec=pd.DataFrame(lista_rec).transpose()"
   ]
  },
  {
   "cell_type": "markdown",
   "id": "c0907a79-bc1b-4d0b-a4f8-89c895cf67d6",
   "metadata": {},
   "source": [
    "# Visualización de los datos"
   ]
  },
  {
   "cell_type": "code",
   "execution_count": null,
   "id": "25b1da11-f5e2-44e9-b051-d6cb9f724d65",
   "metadata": {},
   "outputs": [],
   "source": [
    "lista=[round(100*phq_rec.value_counts(i)/phq_rec.shape[0],2) for i in phq_rec.columns ]"
   ]
  },
  {
   "cell_type": "code",
   "execution_count": null,
   "id": "742781a0-51df-4c93-a59c-003dabe3816e",
   "metadata": {},
   "outputs": [],
   "source": [
    "phq_gf=(pd.DataFrame(lista,index= phq_rec.columns).\n",
    " reset_index().\n",
    " rename(columns={'index':'sintoma'}).\n",
    " melt(id_vars='sintoma', \n",
    "      value_vars=['Nunca','Algunos','Todos','Varios']))\n"
   ]
  },
  {
   "cell_type": "code",
   "execution_count": null,
   "id": "60e1fb1f-6b44-4279-afc3-0bc58afe1f82",
   "metadata": {},
   "outputs": [],
   "source": [
    "phq_gf.head()"
   ]
  },
  {
   "cell_type": "code",
   "execution_count": null,
   "id": "984be8b3-5857-45fb-ba6f-94956b6baf9e",
   "metadata": {},
   "outputs": [],
   "source": [
    "fig=px.bar(phq_gf,\n",
    "       x='sintoma',\n",
    "       y='value',\n",
    "       color='variable',\n",
    "       barmode='group',\n",
    "      labels=dict(sintoma='Síntoma',value='Proporción',variable='Frecuencia'),\n",
    "      color_discrete_sequence=['#440154','#3b528b','#21918c','#fde725'])\n",
    "fig.update_layout(legend=dict(\n",
    "    orientation=\"h\",\n",
    "    yanchor=\"bottom\",\n",
    "    y=1.02,\n",
    "    xanchor=\"right\",\n",
    "    x=1\n",
    "))\n",
    "\n"
   ]
  },
  {
   "cell_type": "code",
   "execution_count": null,
   "id": "8ac0b78b-ac0f-45a1-87fa-07fd280e4334",
   "metadata": {},
   "outputs": [],
   "source": [
    "#Guardar grafico\n",
    "py.plot(fig,filename='GRAFICOS/freq-sinto.html',auto_open=False)"
   ]
  },
  {
   "cell_type": "markdown",
   "id": "b122f281-166c-4458-a834-af4b95e0ee1a",
   "metadata": {},
   "source": [
    "### Algoritmo K-modes"
   ]
  },
  {
   "cell_type": "code",
   "execution_count": null,
   "id": "fdd87fc5-12c2-4bbc-96c0-4d7f5b39a036",
   "metadata": {},
   "outputs": [],
   "source": [
    "num_random_state=1992"
   ]
  },
  {
   "cell_type": "code",
   "execution_count": null,
   "id": "c1f31f6f-45e6-4e7c-8e72-8f96a605b30f",
   "metadata": {},
   "outputs": [],
   "source": [
    "\n",
    "#Algortimo con inicización de Cao\n",
    "km_cao = KModes(n_clusters=4,\n",
    "                init = \"Cao\",\n",
    "                n_init = 1, verbose=1,\n",
    "               random_state=num_random_state)\n",
    "fitClusters_cao = km_cao.fit_predict(phq_rec)"
   ]
  },
  {
   "cell_type": "code",
   "execution_count": null,
   "id": "619fa22a-d2ac-4214-b78c-5c082b1b94e0",
   "metadata": {},
   "outputs": [],
   "source": [
    "#Predicciones\n",
    "fitClusters_cao"
   ]
  },
  {
   "cell_type": "code",
   "execution_count": null,
   "id": "f3a35f57-f2ce-4ddb-993d-a3754a3e5af7",
   "metadata": {},
   "outputs": [],
   "source": [
    "#Moda de clusters por variable\n",
    "cluster_cao = pd.DataFrame(km_cao.cluster_centroids_)\n",
    "cluster_cao.columns = phq_ft.columns\n",
    "cluster_cao"
   ]
  },
  {
   "cell_type": "code",
   "execution_count": null,
   "id": "71451b07-c92e-47ad-8756-e5673d8b1a84",
   "metadata": {},
   "outputs": [],
   "source": [
    "#Algoritmo con inicialización de Huang\n",
    "km_huang = KModes(n_clusters=4, init = \"Huang\", n_init = 1, verbose=1,random_state=num_random_state)\n",
    "fitClusters_huang = km_huang.fit_predict(phq_rec)"
   ]
  },
  {
   "cell_type": "code",
   "execution_count": null,
   "id": "16d1bc37-c344-40c5-8ffa-6dd5e8e010a9",
   "metadata": {},
   "outputs": [],
   "source": [
    "fitClusters_huang"
   ]
  },
  {
   "cell_type": "code",
   "execution_count": null,
   "id": "8f91af8a-1a68-412f-9390-751b3a83d487",
   "metadata": {},
   "outputs": [],
   "source": [
    "#Moda de clusters por variable\n",
    "cluster_huang = pd.DataFrame(km_huang.cluster_centroids_)\n",
    "cluster_huang.columns = phq_ft.columns\n",
    "cluster_huang"
   ]
  },
  {
   "cell_type": "markdown",
   "id": "8993b1e3-f19c-464e-93d5-6ef44c021e16",
   "metadata": {},
   "source": [
    "## Número óptimo de clusters"
   ]
  },
  {
   "cell_type": "code",
   "execution_count": null,
   "id": "408c367c-de54-4944-91b6-b458574ae8ec",
   "metadata": {},
   "outputs": [],
   "source": [
    "cost = []\n",
    "for num_clusters in list(range(1,10)):\n",
    "    kmode = KModes(n_clusters=num_clusters, init = \"Cao\", n_init = 1, verbose=0,random_state=num_random_state)\n",
    "    kmode.fit_predict(phq_rec)\n",
    "    cost.append(kmode.cost_)"
   ]
  },
  {
   "cell_type": "code",
   "execution_count": null,
   "id": "8a955ad2-e352-4a45-95bf-b3d18d09b0e8",
   "metadata": {},
   "outputs": [],
   "source": [
    "y = np.array([i for i in range(1,10,1)])"
   ]
  },
  {
   "cell_type": "code",
   "execution_count": null,
   "id": "00883475-2fa3-48a9-a977-846a3571472f",
   "metadata": {},
   "outputs": [],
   "source": [
    "np.array([i for i in range(1,10,1)])"
   ]
  },
  {
   "cell_type": "code",
   "execution_count": null,
   "id": "cc6e7849-80f9-4647-ad64-8abe008a80af",
   "metadata": {},
   "outputs": [],
   "source": [
    "fig_cost=(px.line(x=y,\n",
    "       y=cost,\n",
    "       markers=True,\n",
    "       labels=dict(y='Pérdida',x='Número de Clusters')).\n",
    "       update_traces(line_color='#3b528b'))\n",
    "      \n"
   ]
  },
  {
   "cell_type": "code",
   "execution_count": null,
   "id": "2eba3e2f-7683-4447-bd33-63e85b524a67",
   "metadata": {},
   "outputs": [],
   "source": [
    "#Guardar grafico\n",
    "py.plot(fig_cost,filename='GRAFICOS/costo_cluster.html',auto_open=False)"
   ]
  },
  {
   "cell_type": "markdown",
   "id": "ef2c4dd3-138e-4755-b6c2-a2634d25163e",
   "metadata": {},
   "source": [
    "### Cluster electo"
   ]
  },
  {
   "cell_type": "code",
   "execution_count": null,
   "id": "703a52e8-e37a-4d13-9c42-6bde153fb017",
   "metadata": {},
   "outputs": [],
   "source": [
    "### Se eligen 3\n",
    "km_cao = KModes(n_clusters=3,\n",
    "               init='Cao',\n",
    "               n_init=1,\n",
    "               verbose=0,\n",
    "               random_state=num_random_state)\n",
    "fit_kmcao=km_cao.fit_predict(phq_rec)"
   ]
  },
  {
   "cell_type": "code",
   "execution_count": null,
   "id": "3f7106ec-80c9-4e62-9404-35f23892feef",
   "metadata": {},
   "outputs": [],
   "source": [
    "#Crear columna en df con el cluster asignado a cada observación\n",
    "phq_rec['cluster']= fit_kmcao"
   ]
  },
  {
   "cell_type": "code",
   "execution_count": null,
   "id": "1852609a-3587-4888-b7cb-8ceab13ac29f",
   "metadata": {},
   "outputs": [],
   "source": [
    "phq_rec.head()"
   ]
  },
  {
   "cell_type": "code",
   "execution_count": null,
   "id": "bf90b620-65ed-4b6f-bfc4-1d807ddfe5d3",
   "metadata": {},
   "outputs": [],
   "source": [
    "#Moda de clusters por variable\n",
    "cluster_cao3 = pd.DataFrame(km_cao.cluster_centroids_)\n",
    "cluster_cao3.columns = phq_rec.drop('cluster',axis=1).columns\n",
    "cluster_cao3"
   ]
  },
  {
   "cell_type": "code",
   "execution_count": null,
   "id": "aa6e21e4-6f0a-4a4f-82c8-9ac1a56167b2",
   "metadata": {},
   "outputs": [],
   "source": [
    "cluster_cao3.iloc[0]"
   ]
  },
  {
   "cell_type": "code",
   "execution_count": 41,
   "id": "700001b0-cb57-46a9-b44e-e66388dce83b",
   "metadata": {},
   "outputs": [],
   "source": [
    "listas_dis=[[sum(cluster_cao3.iloc[j] !=phq_rec[phq_rec['cluster']==j].drop('cluster',axis=1).iloc[i]) for i in range(phq_rec[phq_rec['cluster']==j].shape[0])] for j in range(3)]"
   ]
  },
  {
   "cell_type": "markdown",
   "id": "e8c0cea9-7ebc-491a-9e69-c770157a0165",
   "metadata": {},
   "source": [
    "### Distancias promedio al interior del cluster"
   ]
  },
  {
   "cell_type": "code",
   "execution_count": 75,
   "id": "a32cc6c3-c2fa-4a39-b8e8-df9dcd16b7ef",
   "metadata": {},
   "outputs": [
    {
     "data": {
      "text/plain": [
       "1.91"
      ]
     },
     "execution_count": 75,
     "metadata": {},
     "output_type": "execute_result"
    }
   ],
   "source": [
    "round(np.array(listas_dis[0]).mean(),2)"
   ]
  },
  {
   "cell_type": "code",
   "execution_count": 76,
   "id": "24f6731e-fec0-4068-954c-477362c03d7c",
   "metadata": {},
   "outputs": [
    {
     "data": {
      "text/plain": [
       "2.78"
      ]
     },
     "execution_count": 76,
     "metadata": {},
     "output_type": "execute_result"
    }
   ],
   "source": [
    "round(np.array(listas_dis[1]).mean(),2)"
   ]
  },
  {
   "cell_type": "code",
   "execution_count": 77,
   "id": "b9ed21fc-167f-46af-968f-34f87004653d",
   "metadata": {},
   "outputs": [
    {
     "data": {
      "text/plain": [
       "4.09"
      ]
     },
     "execution_count": 77,
     "metadata": {},
     "output_type": "execute_result"
    }
   ],
   "source": [
    "round(np.array(listas_dis[2]).mean(),2)"
   ]
  },
  {
   "cell_type": "markdown",
   "id": "d03b99e0-e644-4f19-b8af-1352fc48f3cc",
   "metadata": {},
   "source": [
    "### Distancias entre clusters"
   ]
  },
  {
   "cell_type": "code",
   "execution_count": 71,
   "id": "29150141-f4d5-45ea-a283-f27747801135",
   "metadata": {},
   "outputs": [],
   "source": [
    "#Ver todas las cpmbinaciones posibles entre clusters\n",
    "combs=list(itertools.combinations(range(cluster_cao3.shape[0]), 2))\n",
    "#Iterar sobre las combinaciones posibles\n",
    "distancias_clusters=[sum(cluster_cao3.iloc[combs[i][0]]!=cluster_cao3.iloc[combs[i][1]]) for i in range(len(combs))]"
   ]
  },
  {
   "cell_type": "code",
   "execution_count": 74,
   "id": "43157c82-c206-4a31-82de-bbe12852505c",
   "metadata": {},
   "outputs": [
    {
     "data": {
      "text/html": [
       "<div>\n",
       "<style scoped>\n",
       "    .dataframe tbody tr th:only-of-type {\n",
       "        vertical-align: middle;\n",
       "    }\n",
       "\n",
       "    .dataframe tbody tr th {\n",
       "        vertical-align: top;\n",
       "    }\n",
       "\n",
       "    .dataframe thead th {\n",
       "        text-align: right;\n",
       "    }\n",
       "</style>\n",
       "<table border=\"1\" class=\"dataframe\">\n",
       "  <thead>\n",
       "    <tr style=\"text-align: right;\">\n",
       "      <th></th>\n",
       "      <th>Distancias</th>\n",
       "      <th>Comparación</th>\n",
       "    </tr>\n",
       "  </thead>\n",
       "  <tbody>\n",
       "    <tr>\n",
       "      <th>0</th>\n",
       "      <td>6</td>\n",
       "      <td>(0, 1)</td>\n",
       "    </tr>\n",
       "    <tr>\n",
       "      <th>1</th>\n",
       "      <td>8</td>\n",
       "      <td>(0, 2)</td>\n",
       "    </tr>\n",
       "    <tr>\n",
       "      <th>2</th>\n",
       "      <td>6</td>\n",
       "      <td>(1, 2)</td>\n",
       "    </tr>\n",
       "  </tbody>\n",
       "</table>\n",
       "</div>"
      ],
      "text/plain": [
       "   Distancias Comparación\n",
       "0           6      (0, 1)\n",
       "1           8      (0, 2)\n",
       "2           6      (1, 2)"
      ]
     },
     "execution_count": 74,
     "metadata": {},
     "output_type": "execute_result"
    }
   ],
   "source": [
    "\n",
    "pd.DataFrame({'Distancias':distancias_clusters,\n",
    "             'Comparación':[str(combs[i]) for i in range(len(comb))]})"
   ]
  },
  {
   "cell_type": "markdown",
   "id": "8dd25431-5663-416f-a803-f089647366ee",
   "metadata": {},
   "source": [
    "# Proporción de Clusters"
   ]
  },
  {
   "cell_type": "code",
   "execution_count": null,
   "id": "474ac6b2-b111-4301-942e-67c4cd89b44d",
   "metadata": {},
   "outputs": [],
   "source": [
    "#Proporciones por cluster\n",
    "datos_cl=(pd.DataFrame({'prop':list(round(100*phq_rec.value_counts('cluster')/phq_rec.shape[0],2))}).\n",
    " reset_index().\n",
    " rename(columns={'index':'cluster'}))\n",
    "#Pasar variable de int a categorica\n",
    "datos_cl['cluster']=datos_cl.cluster.apply(str)"
   ]
  },
  {
   "cell_type": "code",
   "execution_count": null,
   "id": "f686758c-2b6a-4917-8773-1a2e8f547215",
   "metadata": {},
   "outputs": [],
   "source": [
    "#Gráfico de proporciones por cluster\n",
    "fg_prop_cl=px.bar(datos_cl,x='cluster',y='prop',\n",
    "      labels=dict(prop='Proporción',\n",
    "                  cluster='Cluster'),\n",
    "      color_discrete_sequence=['#440154'])\n",
    "fg_prop_cl"
   ]
  },
  {
   "cell_type": "code",
   "execution_count": null,
   "id": "097757ff-acbd-4a03-822b-8f4e21e9540f",
   "metadata": {},
   "outputs": [],
   "source": [
    "py.plot(fg_prop_cl,filename='GRAFICOS/props_cluster.html',auto_open=False)"
   ]
  },
  {
   "cell_type": "code",
   "execution_count": null,
   "id": "e28a6cc7-aaf5-4cec-abaa-b926075d76bd",
   "metadata": {},
   "outputs": [],
   "source": [
    "#Calcular para cada síntoma la frecuencia relativa agrupado por cluster\n",
    "lista_cl_sin=[round(100*phq_rec.groupby('cluster')[i].value_counts()/phq_rec.value_counts('cluster'),2) for i in phq_rec.drop('cluster',axis=1).columns]\n",
    "#Pasar la lista anterior a data frame e invertirla\n",
    "df_cl_sin=pd.DataFrame(lista_cl_sin).transpose().reset_index()\n",
    "#Renombrar columnas\n",
    "df_cl_sin.columns=['cluster','frecuencia','s01','s02','s03','s04','s05','s06','s07','s08','s09']\n",
    "#Pasar de wide a long para que haya una unica variable con las proporciones y otra para el sintoma\n",
    "gf_cl_sin=df_cl_sin.melt(id_vars=['cluster','frecuencia'])\n",
    "gf_cl_sin.head()"
   ]
  },
  {
   "cell_type": "code",
   "execution_count": null,
   "id": "ae468d34-61a1-465e-abbd-9b547fc7094a",
   "metadata": {},
   "outputs": [],
   "source": [
    "fg_sint_cl=px.bar(gf_cl_sin,x='variable',\n",
    "       y='value',\n",
    "       color='frecuencia',\n",
    "       facet_col='cluster',\n",
    "       color_discrete_sequence=['#440154','#3b528b','#21918c','#fde725'],\n",
    "      labels=dict(value='Proporción',variable='Síntoma',frecuencia='Frecuencia',cluster='Cluster'),\n",
    "      category_orders={'frecuencia':['Nunca', 'Algunos','Varios','Todos']})\n",
    "fg_sint_cl"
   ]
  },
  {
   "cell_type": "code",
   "execution_count": null,
   "id": "aa8114a0-ecde-4db0-bc71-7655e0acde1b",
   "metadata": {},
   "outputs": [],
   "source": [
    "py.plot(fg_sint_cl,filename='GRAFICOS/sintomas_por_cluster.html',auto_open=False)"
   ]
  }
 ],
 "metadata": {
  "kernelspec": {
   "display_name": "Python 3 (ipykernel)",
   "language": "python",
   "name": "python3"
  },
  "language_info": {
   "codemirror_mode": {
    "name": "ipython",
    "version": 3
   },
   "file_extension": ".py",
   "mimetype": "text/x-python",
   "name": "python",
   "nbconvert_exporter": "python",
   "pygments_lexer": "ipython3",
   "version": "3.9.7"
  }
 },
 "nbformat": 4,
 "nbformat_minor": 5
}
