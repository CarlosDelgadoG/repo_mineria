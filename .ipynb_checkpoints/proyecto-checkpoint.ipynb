{
 "cells": [
  {
   "cell_type": "code",
   "execution_count": null,
   "id": "2f5bfa70-a307-4b26-9416-43b20ca448c4",
   "metadata": {},
   "outputs": [],
   "source": [
    "import pandas as pd\n",
    "import numpy as np\n",
    "from kmodes.kmodes import KModes\n",
    "import matplotlib.pyplot as plt"
   ]
  },
  {
   "cell_type": "code",
   "execution_count": null,
   "id": "72128327-b120-43e0-bee2-f161c59d9dd0",
   "metadata": {},
   "outputs": [],
   "source": [
    "phq= pd.read_csv('DATOS/phq_num.csv',sep=';')"
   ]
  },
  {
   "cell_type": "code",
   "execution_count": null,
   "id": "0a40944c-bd1b-4a37-9c13-441bd721decc",
   "metadata": {},
   "outputs": [],
   "source": [
    "phq.head()\n",
    "phq.shape\n",
    "phq.isnull().sum()\n",
    "\n",
    "phq=phq.dropna()"
   ]
  },
  {
   "cell_type": "code",
   "execution_count": null,
   "id": "622260d0-e5a9-48a9-b194-d9fd2c9d95c1",
   "metadata": {},
   "outputs": [],
   "source": [
    "### Seleccionar las variables\n",
    "phq_ft=phq.drop(['phq_global','phq_s10','phq_cat'],axis=1)\n",
    "### Pasar a categoricas\n",
    "def reco_s00(val):\n",
    "    if val == 0:\n",
    "        return 'Nunca'\n",
    "    elif val==1:\n",
    "        return 'Algunos'\n",
    "    elif val ==2:\n",
    "        return 'Varios'\n",
    "    elif val ==3:\n",
    "        return 'Todos'\n",
    "lista_rec=[phq_ft[i].apply(reco_s00) for i in phq_ft.columns]\n",
    "\n",
    "phq_rec=pd.DataFrame(lista_rec).transpose()"
   ]
  },
  {
   "cell_type": "markdown",
   "id": "c0907a79-bc1b-4d0b-a4f8-89c895cf67d6",
   "metadata": {},
   "source": [
    "# Visualización de los datos"
   ]
  },
  {
   "cell_type": "code",
   "execution_count": null,
   "id": "25b1da11-f5e2-44e9-b051-d6cb9f724d65",
   "metadata": {},
   "outputs": [],
   "source": [
    "lista=[round(100*phq_rec.value_counts(i)/phq_rec.shape[0],2) for i in phq_rec.columns ]"
   ]
  },
  {
   "cell_type": "code",
   "execution_count": null,
   "id": "742781a0-51df-4c93-a59c-003dabe3816e",
   "metadata": {},
   "outputs": [],
   "source": [
    "phq_gf=(pd.DataFrame(lista,index= phq_rec.columns).\n",
    " reset_index().\n",
    " rename(columns={'index':'sintoma'}).\n",
    " melt(id_vars='sintoma', \n",
    "      value_vars=['Nunca','Algunos','Todos','Varios']))\n"
   ]
  },
  {
   "cell_type": "code",
   "execution_count": null,
   "id": "60e1fb1f-6b44-4279-afc3-0bc58afe1f82",
   "metadata": {},
   "outputs": [],
   "source": [
    "phq_gf.head()"
   ]
  },
  {
   "cell_type": "code",
   "execution_count": null,
   "id": "1ba8842e-98e2-4ffb-9977-802a2a065431",
   "metadata": {},
   "outputs": [],
   "source": [
    "import plotly.graph_objects as go\n",
    "\n",
    "fig = go.Figure(data=[\n",
    "    go.Bar(name='Nunca', \n",
    "           x=phq_gf.query(\"variable=='Nunca'\").sintoma, \n",
    "           y=phq_gf.query(\"variable=='Nunca'\").value),\n",
    "])\n",
    "# Change the bar mode\n",
    "fig.update_layout(barmode='group')\n",
    "fig.show()"
   ]
  },
  {
   "cell_type": "code",
   "execution_count": 54,
   "id": "5f75b08e-08f8-4fda-bf2e-dce277feb8fd",
   "metadata": {},
   "outputs": [],
   "source": [
    "fig=[go.Figure(data=[go.Bar(name=i, x=phq_gf[phq_gf['variable']==i].sintoma, y=phq_gf[phq_gf['variable']==i].value)]) for i in valores]"
   ]
  },
  {
   "cell_type": "code",
   "execution_count": 55,
   "id": "8880cdf7-f3c9-4196-9137-aef8d524d989",
   "metadata": {},
   "outputs": [
    {
     "data": {
      "text/plain": [
       "[Figure({\n",
       "     'data': [{'name': 'Nunca',\n",
       "               'type': 'bar',\n",
       "               'x': array(['s01', 's02', 's03', 's04', 's05', 's06', 's07', 's08', 's09'],\n",
       "                          dtype=object),\n",
       "               'y': array([44.01, 44.81, 46.05, 30.51, 50.66, 62.6 , 71.95, 72.68, 85.91])}],\n",
       "     'layout': {'template': '...'}\n",
       " }),\n",
       " Figure({\n",
       "     'data': [{'name': 'Algunos',\n",
       "               'type': 'bar',\n",
       "               'x': array(['s01', 's02', 's03', 's04', 's05', 's06', 's07', 's08', 's09'],\n",
       "                          dtype=object),\n",
       "               'y': array([40.93, 44.94, 34.59, 48.41, 33.1 , 25.59, 20.91, 19.25, 10.46])}],\n",
       "     'layout': {'template': '...'}\n",
       " }),\n",
       " Figure({\n",
       "     'data': [{'name': 'Todos',\n",
       "               'type': 'bar',\n",
       "               'x': array(['s01', 's02', 's03', 's04', 's05', 's06', 's07', 's08', 's09'],\n",
       "                          dtype=object),\n",
       "               'y': array([ 9.63,  5.68, 13.37, 13.5 , 10.77,  7.17,  4.26,  5.02,  2.04])}],\n",
       "     'layout': {'template': '...'}\n",
       " }),\n",
       " Figure({\n",
       "     'data': [{'name': 'Varios',\n",
       "               'type': 'bar',\n",
       "               'x': array(['s01', 's02', 's03', 's04', 's05', 's06', 's07', 's08', 's09'],\n",
       "                          dtype=object),\n",
       "               'y': array([5.44, 4.57, 5.99, 7.58, 5.47, 4.64, 2.87, 3.05, 1.59])}],\n",
       "     'layout': {'template': '...'}\n",
       " })]"
      ]
     },
     "execution_count": 55,
     "metadata": {},
     "output_type": "execute_result"
    }
   ],
   "source": [
    "fig"
   ]
  },
  {
   "cell_type": "code",
   "execution_count": 47,
   "id": "50a64eea-ccdf-447b-9eee-b161f162d03d",
   "metadata": {},
   "outputs": [],
   "source": []
  },
  {
   "cell_type": "code",
   "execution_count": null,
   "id": "3dad030d-6379-4c2c-bd15-8baa1ee5b89b",
   "metadata": {},
   "outputs": [],
   "source": []
  },
  {
   "cell_type": "code",
   "execution_count": 49,
   "id": "fc889d98-b87e-44f8-b451-0aa6fc7f2a86",
   "metadata": {},
   "outputs": [
    {
     "ename": "NameError",
     "evalue": "name 'df_sintom' is not defined",
     "output_type": "error",
     "traceback": [
      "\u001b[1;31m---------------------------------------------------------------------------\u001b[0m",
      "\u001b[1;31mNameError\u001b[0m                                 Traceback (most recent call last)",
      "\u001b[1;32m~\\AppData\\Local\\Temp/ipykernel_624/635897986.py\u001b[0m in \u001b[0;36m<module>\u001b[1;34m\u001b[0m\n\u001b[1;32m----> 1\u001b[1;33m \u001b[0mpd\u001b[0m\u001b[1;33m.\u001b[0m\u001b[0mmelt\u001b[0m\u001b[1;33m(\u001b[0m\u001b[0mdf_sintom\u001b[0m\u001b[1;33m,\u001b[0m \u001b[0mid_vars\u001b[0m\u001b[1;33m=\u001b[0m\u001b[1;34m'sintoma'\u001b[0m\u001b[1;33m,\u001b[0m \u001b[0mvalue_vars\u001b[0m\u001b[1;33m=\u001b[0m\u001b[0mdf_sintom\u001b[0m\u001b[1;33m.\u001b[0m\u001b[0mdrop\u001b[0m\u001b[1;33m(\u001b[0m\u001b[1;34m'sintoma'\u001b[0m\u001b[1;33m,\u001b[0m\u001b[0maxis\u001b[0m\u001b[1;33m=\u001b[0m\u001b[1;36m1\u001b[0m\u001b[1;33m)\u001b[0m\u001b[1;33m.\u001b[0m\u001b[0mcolumns\u001b[0m\u001b[1;33m)\u001b[0m\u001b[1;33m\u001b[0m\u001b[1;33m\u001b[0m\u001b[0m\n\u001b[0m",
      "\u001b[1;31mNameError\u001b[0m: name 'df_sintom' is not defined"
     ]
    }
   ],
   "source": []
  },
  {
   "cell_type": "code",
   "execution_count": null,
   "id": "ee863462-7dcb-4195-b491-9fef65f5d827",
   "metadata": {},
   "outputs": [],
   "source": []
  },
  {
   "cell_type": "markdown",
   "id": "b122f281-166c-4458-a834-af4b95e0ee1a",
   "metadata": {},
   "source": [
    "### Algoritmo K-modes"
   ]
  },
  {
   "cell_type": "code",
   "execution_count": null,
   "id": "c1f31f6f-45e6-4e7c-8e72-8f96a605b30f",
   "metadata": {},
   "outputs": [],
   "source": [
    "#Algortimo con inicización de Cao\n",
    "km_cao = KModes(n_clusters=4,\n",
    "                init = \"Cao\",\n",
    "                n_init = 1, verbose=1)\n",
    "fitClusters_cao = km_cao.fit_predict(phq_rec)"
   ]
  },
  {
   "cell_type": "code",
   "execution_count": null,
   "id": "619fa22a-d2ac-4214-b78c-5c082b1b94e0",
   "metadata": {},
   "outputs": [],
   "source": [
    "#Predicciones\n",
    "fitClusters_cao"
   ]
  },
  {
   "cell_type": "code",
   "execution_count": null,
   "id": "f3a35f57-f2ce-4ddb-993d-a3754a3e5af7",
   "metadata": {},
   "outputs": [],
   "source": [
    "#Moda de clusters por variable\n",
    "cluster_cao = pd.DataFrame(km_cao.cluster_centroids_)\n",
    "cluster_cao.columns = phq_ft.columns\n",
    "cluster_cao"
   ]
  },
  {
   "cell_type": "code",
   "execution_count": null,
   "id": "71451b07-c92e-47ad-8756-e5673d8b1a84",
   "metadata": {},
   "outputs": [],
   "source": [
    "#Algoritmo con inicialización de Huang\n",
    "km_huang = KModes(n_clusters=4, init = \"Huang\", n_init = 1, verbose=1)\n",
    "fitClusters_huang = km_huang.fit_predict(phq_rec)"
   ]
  },
  {
   "cell_type": "code",
   "execution_count": null,
   "id": "16d1bc37-c344-40c5-8ffa-6dd5e8e010a9",
   "metadata": {},
   "outputs": [],
   "source": [
    "fitClusters_huang"
   ]
  },
  {
   "cell_type": "code",
   "execution_count": null,
   "id": "8f91af8a-1a68-412f-9390-751b3a83d487",
   "metadata": {},
   "outputs": [],
   "source": [
    "#Moda de clusters por variable\n",
    "cluster_huang = pd.DataFrame(km_huang.cluster_centroids_)\n",
    "cluster_huang.columns = phq_ft.columns\n",
    "cluster_huang"
   ]
  },
  {
   "cell_type": "code",
   "execution_count": null,
   "id": "1bb3ea56-fc72-4c93-9212-7dd5550ce472",
   "metadata": {},
   "outputs": [],
   "source": []
  },
  {
   "cell_type": "markdown",
   "id": "8993b1e3-f19c-464e-93d5-6ef44c021e16",
   "metadata": {},
   "source": [
    "## Número óptimo de clusters"
   ]
  },
  {
   "cell_type": "code",
   "execution_count": null,
   "id": "408c367c-de54-4944-91b6-b458574ae8ec",
   "metadata": {},
   "outputs": [],
   "source": [
    "cost = []\n",
    "for num_clusters in list(range(1,10)):\n",
    "    kmode = KModes(n_clusters=num_clusters, init = \"Cao\", n_init = 1, verbose=0)\n",
    "    kmode.fit_predict(phq_rec)\n",
    "    cost.append(kmode.cost_)"
   ]
  },
  {
   "cell_type": "code",
   "execution_count": null,
   "id": "8a955ad2-e352-4a45-95bf-b3d18d09b0e8",
   "metadata": {},
   "outputs": [],
   "source": [
    "y = np.array([i for i in range(1,10,1)])\n",
    "plt.plot(y,cost)"
   ]
  },
  {
   "cell_type": "code",
   "execution_count": null,
   "id": "703a52e8-e37a-4d13-9c42-6bde153fb017",
   "metadata": {},
   "outputs": [],
   "source": [
    "### Se eligen 3\n",
    "km_cao = KModes(n_clusters=3,\n",
    "               init='Cao',\n",
    "               n_init=1,\n",
    "               verbose=0)\n",
    "fit_kmcao=km_cao.fit_predict(phq_rec)"
   ]
  },
  {
   "cell_type": "code",
   "execution_count": null,
   "id": "3f7106ec-80c9-4e62-9404-35f23892feef",
   "metadata": {},
   "outputs": [],
   "source": [
    "phq_rec['cluster']= fit_kmcao"
   ]
  },
  {
   "cell_type": "code",
   "execution_count": null,
   "id": "1852609a-3587-4888-b7cb-8ceab13ac29f",
   "metadata": {},
   "outputs": [],
   "source": [
    "phq_rec.head()"
   ]
  },
  {
   "cell_type": "code",
   "execution_count": null,
   "id": "bf90b620-65ed-4b6f-bfc4-1d807ddfe5d3",
   "metadata": {},
   "outputs": [],
   "source": [
    "#Moda de clusters por variable\n",
    "cluster_cao3 = pd.DataFrame(km_cao.cluster_centroids_)\n",
    "cluster_cao3.columns = phq_ft.drop('cluster',axis=1).columns\n",
    "cluster_cao3"
   ]
  }
 ],
 "metadata": {
  "kernelspec": {
   "display_name": "Python 3 (ipykernel)",
   "language": "python",
   "name": "python3"
  },
  "language_info": {
   "codemirror_mode": {
    "name": "ipython",
    "version": 3
   },
   "file_extension": ".py",
   "mimetype": "text/x-python",
   "name": "python",
   "nbconvert_exporter": "python",
   "pygments_lexer": "ipython3",
   "version": "3.9.7"
  }
 },
 "nbformat": 4,
 "nbformat_minor": 5
}
