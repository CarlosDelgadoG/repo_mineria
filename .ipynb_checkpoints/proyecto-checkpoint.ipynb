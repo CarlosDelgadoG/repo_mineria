{
 "cells": [
  {
   "cell_type": "code",
   "execution_count": 12,
   "id": "2f5bfa70-a307-4b26-9416-43b20ca448c4",
   "metadata": {},
   "outputs": [],
   "source": [
    "import pandas as pd\n",
    "import numpy as np\n",
    "from kmodes.kmodes import KModes"
   ]
  },
  {
   "cell_type": "code",
   "execution_count": 4,
   "id": "72128327-b120-43e0-bee2-f161c59d9dd0",
   "metadata": {},
   "outputs": [],
   "source": [
    "phq= pd.read_csv('DATOS/phq_num.csv',sep=';')"
   ]
  },
  {
   "cell_type": "code",
   "execution_count": 14,
   "id": "0a40944c-bd1b-4a37-9c13-441bd721decc",
   "metadata": {},
   "outputs": [
    {
     "data": {
      "text/plain": [
       "Index(['s01', 's02', 's03', 's04', 's05', 's06', 's07', 's08', 's09',\n",
       "       'phq_global', 'phq_s10', 'phq_cat'],\n",
       "      dtype='object')"
      ]
     },
     "execution_count": 14,
     "metadata": {},
     "output_type": "execute_result"
    }
   ],
   "source": [
    "phq.head()\n",
    "phq.shape\n",
    "phq.isnull().sum()\n",
    "\n",
    "phq=phq.dropna()\n",
    "\n",
    "phq.columns"
   ]
  },
  {
   "cell_type": "markdown",
   "id": "b122f281-166c-4458-a834-af4b95e0ee1a",
   "metadata": {},
   "source": [
    "### Algoritmo K-modes"
   ]
  },
  {
   "cell_type": "code",
   "execution_count": 17,
   "id": "4734728d-8523-4e44-8e82-0cf99b32a0cc",
   "metadata": {},
   "outputs": [],
   "source": [
    "### Seleccionar las variables\n",
    "phq_ft=phq.drop(['phq_global','phq_s10','phq_cat'],axis=1)"
   ]
  },
  {
   "cell_type": "code",
   "execution_count": 18,
   "id": "c1f31f6f-45e6-4e7c-8e72-8f96a605b30f",
   "metadata": {},
   "outputs": [
    {
     "name": "stdout",
     "output_type": "stream",
     "text": [
      "Init: initializing centroids\n",
      "Init: initializing clusters\n",
      "Starting iterations...\n",
      "Run 1, iteration: 1/100, moves: 776, cost: 6823.0\n",
      "Run 1, iteration: 2/100, moves: 229, cost: 6789.0\n",
      "Run 1, iteration: 3/100, moves: 24, cost: 6789.0\n"
     ]
    }
   ],
   "source": [
    "#Algortimo con inicización de Cao\n",
    "km_cao = KModes(n_clusters=4, init = \"Cao\", n_init = 1, verbose=1)\n",
    "fitClusters_cao = km_cao.fit_predict(phq_ft)"
   ]
  },
  {
   "cell_type": "code",
   "execution_count": 19,
   "id": "619fa22a-d2ac-4214-b78c-5c082b1b94e0",
   "metadata": {},
   "outputs": [
    {
     "data": {
      "text/plain": [
       "array([2, 3, 2, ..., 0, 1, 0], dtype=uint16)"
      ]
     },
     "execution_count": 19,
     "metadata": {},
     "output_type": "execute_result"
    }
   ],
   "source": [
    "#Predicciones\n",
    "fitClusters_cao"
   ]
  },
  {
   "cell_type": "code",
   "execution_count": 20,
   "id": "f3a35f57-f2ce-4ddb-993d-a3754a3e5af7",
   "metadata": {},
   "outputs": [
    {
     "data": {
      "text/html": [
       "<div>\n",
       "<style scoped>\n",
       "    .dataframe tbody tr th:only-of-type {\n",
       "        vertical-align: middle;\n",
       "    }\n",
       "\n",
       "    .dataframe tbody tr th {\n",
       "        vertical-align: top;\n",
       "    }\n",
       "\n",
       "    .dataframe thead th {\n",
       "        text-align: right;\n",
       "    }\n",
       "</style>\n",
       "<table border=\"1\" class=\"dataframe\">\n",
       "  <thead>\n",
       "    <tr style=\"text-align: right;\">\n",
       "      <th></th>\n",
       "      <th>s01</th>\n",
       "      <th>s02</th>\n",
       "      <th>s03</th>\n",
       "      <th>s04</th>\n",
       "      <th>s05</th>\n",
       "      <th>s06</th>\n",
       "      <th>s07</th>\n",
       "      <th>s08</th>\n",
       "      <th>s09</th>\n",
       "    </tr>\n",
       "  </thead>\n",
       "  <tbody>\n",
       "    <tr>\n",
       "      <th>0</th>\n",
       "      <td>0.0</td>\n",
       "      <td>0.0</td>\n",
       "      <td>0.0</td>\n",
       "      <td>0.0</td>\n",
       "      <td>0.0</td>\n",
       "      <td>0.0</td>\n",
       "      <td>0.0</td>\n",
       "      <td>0.0</td>\n",
       "      <td>0.0</td>\n",
       "    </tr>\n",
       "    <tr>\n",
       "      <th>1</th>\n",
       "      <td>1.0</td>\n",
       "      <td>1.0</td>\n",
       "      <td>1.0</td>\n",
       "      <td>1.0</td>\n",
       "      <td>1.0</td>\n",
       "      <td>1.0</td>\n",
       "      <td>0.0</td>\n",
       "      <td>0.0</td>\n",
       "      <td>0.0</td>\n",
       "    </tr>\n",
       "    <tr>\n",
       "      <th>2</th>\n",
       "      <td>1.0</td>\n",
       "      <td>1.0</td>\n",
       "      <td>3.0</td>\n",
       "      <td>3.0</td>\n",
       "      <td>3.0</td>\n",
       "      <td>3.0</td>\n",
       "      <td>1.0</td>\n",
       "      <td>1.0</td>\n",
       "      <td>0.0</td>\n",
       "    </tr>\n",
       "    <tr>\n",
       "      <th>3</th>\n",
       "      <td>1.0</td>\n",
       "      <td>1.0</td>\n",
       "      <td>1.0</td>\n",
       "      <td>1.0</td>\n",
       "      <td>0.0</td>\n",
       "      <td>0.0</td>\n",
       "      <td>1.0</td>\n",
       "      <td>0.0</td>\n",
       "      <td>1.0</td>\n",
       "    </tr>\n",
       "  </tbody>\n",
       "</table>\n",
       "</div>"
      ],
      "text/plain": [
       "   s01  s02  s03  s04  s05  s06  s07  s08  s09\n",
       "0  0.0  0.0  0.0  0.0  0.0  0.0  0.0  0.0  0.0\n",
       "1  1.0  1.0  1.0  1.0  1.0  1.0  0.0  0.0  0.0\n",
       "2  1.0  1.0  3.0  3.0  3.0  3.0  1.0  1.0  0.0\n",
       "3  1.0  1.0  1.0  1.0  0.0  0.0  1.0  0.0  1.0"
      ]
     },
     "execution_count": 20,
     "metadata": {},
     "output_type": "execute_result"
    }
   ],
   "source": [
    "#Moda de clusters por variable\n",
    "clusterCentroidsDf = pd.DataFrame(km_cao.cluster_centroids_)\n",
    "clusterCentroidsDf.columns = phq_ft.columns\n",
    "clusterCentroidsDf"
   ]
  }
 ],
 "metadata": {
  "kernelspec": {
   "display_name": "Python 3 (ipykernel)",
   "language": "python",
   "name": "python3"
  },
  "language_info": {
   "codemirror_mode": {
    "name": "ipython",
    "version": 3
   },
   "file_extension": ".py",
   "mimetype": "text/x-python",
   "name": "python",
   "nbconvert_exporter": "python",
   "pygments_lexer": "ipython3",
   "version": "3.9.7"
  }
 },
 "nbformat": 4,
 "nbformat_minor": 5
}
